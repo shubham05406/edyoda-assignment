{
 "cells": [
  {
   "cell_type": "code",
   "execution_count": null,
   "id": "71886f19",
   "metadata": {},
   "outputs": [],
   "source": [
    "#Write a Python program that accepts a word from the user and reverse it.\n"
   ]
  },
  {
   "cell_type": "code",
   "execution_count": 1,
   "id": "ec888703",
   "metadata": {},
   "outputs": [
    {
     "name": "stdout",
     "output_type": "stream",
     "text": [
      "Enter the name:Edyoda\n"
     ]
    }
   ],
   "source": [
    "name=input(\"Enter the name:\")"
   ]
  },
  {
   "cell_type": "code",
   "execution_count": 2,
   "id": "eec9f640",
   "metadata": {},
   "outputs": [
    {
     "data": {
      "text/plain": [
       "'adoydE'"
      ]
     },
     "execution_count": 2,
     "metadata": {},
     "output_type": "execute_result"
    }
   ],
   "source": [
    "name[::-1]"
   ]
  },
  {
   "cell_type": "code",
   "execution_count": null,
   "id": "c6978246",
   "metadata": {},
   "outputs": [],
   "source": [
    "#Write a Python program to count the number of even and odd numbers from a series of numbers.\n",
    "    "
   ]
  },
  {
   "cell_type": "code",
   "execution_count": 3,
   "id": "3c432294",
   "metadata": {},
   "outputs": [
    {
     "name": "stdout",
     "output_type": "stream",
     "text": [
      "Number of odd numbers : 5\n",
      "Number of even numbers : 4\n"
     ]
    }
   ],
   "source": [
    "numbers = (1, 2, 3, 4, 5, 6, 7, 8, 9) \n",
    "even_count=0\n",
    "odd_count=0\n",
    "for i in numbers:\n",
    "    if i%2==0:\n",
    "        even_count=even_count+1\n",
    "    else:\n",
    "        odd_count=odd_count+1\n",
    "print(\"Number of odd numbers :\",odd_count)\n",
    "print(\"Number of even numbers :\",even_count)\n",
    "        \n"
   ]
  },
  {
   "cell_type": "code",
   "execution_count": null,
   "id": "aef62319",
   "metadata": {},
   "outputs": [],
   "source": [
    "#Write a Python program to get the Fibonacci series between 0 to 50\n",
    "#Expected Output : 1 1 2 3 5 8 13 21 34"
   ]
  },
  {
   "cell_type": "code",
   "execution_count": 4,
   "id": "d71882dc",
   "metadata": {},
   "outputs": [
    {
     "name": "stdout",
     "output_type": "stream",
     "text": [
      "The number of terms :10\n",
      "Fibonacci series:\n",
      "0\n",
      "1\n",
      "1\n",
      "2\n",
      "3\n",
      "5\n",
      "8\n",
      "13\n",
      "21\n",
      "34\n"
     ]
    }
   ],
   "source": [
    "num=int(input(\"The number of terms :\"))\n",
    "num1=0\n",
    "num2=1\n",
    "count=0\n",
    "if num<=0:\n",
    "    print(\"please enter a positive number\")\n",
    "elif num==1:\n",
    "    print(\"Fibonacci series upto\",num,\":\")\n",
    "else:\n",
    "    print(\"Fibonacci series:\")\n",
    "    while count<num:\n",
    "        print(num1)\n",
    "        num3=num1+num2\n",
    "        num1=num2\n",
    "        num2=num3\n",
    "        count=count+1"
   ]
  },
  {
   "cell_type": "code",
   "execution_count": null,
   "id": "b2be238f",
   "metadata": {},
   "outputs": [],
   "source": []
  }
 ],
 "metadata": {
  "kernelspec": {
   "display_name": "Python 3 (ipykernel)",
   "language": "python",
   "name": "python3"
  },
  "language_info": {
   "codemirror_mode": {
    "name": "ipython",
    "version": 3
   },
   "file_extension": ".py",
   "mimetype": "text/x-python",
   "name": "python",
   "nbconvert_exporter": "python",
   "pygments_lexer": "ipython3",
   "version": "3.9.12"
  }
 },
 "nbformat": 4,
 "nbformat_minor": 5
}
